{
 "cells": [
  {
   "cell_type": "markdown",
   "id": "b410ec6b",
   "metadata": {},
   "source": [
    "# Assignment 1.2: Dataset Visualization Coding Challenge\n",
    "*The goal of this week’s challenge is to practice your coding skills by creating a Scatter Plot with the  Iris Dataset  Click for more options using either Python or R.*\n",
    " \n",
    "*Scatter plots are valuable visuals to leverage when you want to compare a minimum of two large sets or variables of data without factoring in a time component. Scatter plots allow for easy visual comprehension of negative/positive correlations or complete absence of a trend. This makes them incredibly accessible to all types of audiences and a powerful tool to have in your data science toolkit.*\n",
    "\n",
    "*The Iris Dataset was introduced by Ronald Fisher in 1936 and  consists of three different species of Irises (Iris setosa, Iris virginica, and Iris versicolor) with 50 samples from each of the three species. For each of the samples, the four measurements of sepal length, sepal width, petal length, and petal width are included along with an “ID” column thus resulting in a dataset that has 6 columns and 150 rows.*"
   ]
  },
  {
   "cell_type": "code",
   "execution_count": 1,
   "id": "22bd4c04",
   "metadata": {},
   "outputs": [],
   "source": [
    "import numpy as np\n",
    "import pandas as pd \n",
    "import matplotlib.pyplot as plt \n",
    "import seaborn as sns \n"
   ]
  },
  {
   "cell_type": "code",
   "execution_count": 2,
   "id": "9b132e8a",
   "metadata": {},
   "outputs": [
    {
     "data": {
      "text/html": [
       "<div>\n",
       "<style scoped>\n",
       "    .dataframe tbody tr th:only-of-type {\n",
       "        vertical-align: middle;\n",
       "    }\n",
       "\n",
       "    .dataframe tbody tr th {\n",
       "        vertical-align: top;\n",
       "    }\n",
       "\n",
       "    .dataframe thead th {\n",
       "        text-align: right;\n",
       "    }\n",
       "</style>\n",
       "<table border=\"1\" class=\"dataframe\">\n",
       "  <thead>\n",
       "    <tr style=\"text-align: right;\">\n",
       "      <th></th>\n",
       "      <th>Id</th>\n",
       "      <th>SepalLengthCm</th>\n",
       "      <th>SepalWidthCm</th>\n",
       "      <th>PetalLengthCm</th>\n",
       "      <th>PetalWidthCm</th>\n",
       "      <th>Species</th>\n",
       "    </tr>\n",
       "  </thead>\n",
       "  <tbody>\n",
       "    <tr>\n",
       "      <th>0</th>\n",
       "      <td>1</td>\n",
       "      <td>5.1</td>\n",
       "      <td>3.5</td>\n",
       "      <td>1.4</td>\n",
       "      <td>0.2</td>\n",
       "      <td>Iris-setosa</td>\n",
       "    </tr>\n",
       "    <tr>\n",
       "      <th>1</th>\n",
       "      <td>2</td>\n",
       "      <td>4.9</td>\n",
       "      <td>3.0</td>\n",
       "      <td>1.4</td>\n",
       "      <td>0.2</td>\n",
       "      <td>Iris-setosa</td>\n",
       "    </tr>\n",
       "  </tbody>\n",
       "</table>\n",
       "</div>"
      ],
      "text/plain": [
       "   Id  SepalLengthCm  SepalWidthCm  PetalLengthCm  PetalWidthCm      Species\n",
       "0   1            5.1           3.5            1.4           0.2  Iris-setosa\n",
       "1   2            4.9           3.0            1.4           0.2  Iris-setosa"
      ]
     },
     "execution_count": 2,
     "metadata": {},
     "output_type": "execute_result"
    }
   ],
   "source": [
    "# uploading the database \n",
    "df = pd.read_csv('Iris.csv',sep = ',')\n",
    "# printing out the first two rows \n",
    "df.head(2)"
   ]
  },
  {
   "cell_type": "code",
   "execution_count": 3,
   "id": "80df257f",
   "metadata": {},
   "outputs": [
    {
     "data": {
      "text/plain": [
       "(150, 6)"
      ]
     },
     "execution_count": 3,
     "metadata": {},
     "output_type": "execute_result"
    }
   ],
   "source": [
    "#Shape of the Dataframe \n",
    "#(rows,columns)\n",
    "df.shape"
   ]
  },
  {
   "cell_type": "code",
   "execution_count": 4,
   "id": "5fb6febe",
   "metadata": {},
   "outputs": [
    {
     "data": {
      "text/plain": [
       "900"
      ]
     },
     "execution_count": 4,
     "metadata": {},
     "output_type": "execute_result"
    }
   ],
   "source": [
    "#size of the dataframe\n",
    "df.size"
   ]
  },
  {
   "cell_type": "code",
   "execution_count": 5,
   "id": "f03b5051",
   "metadata": {},
   "outputs": [
    {
     "name": "stdout",
     "output_type": "stream",
     "text": [
      "<class 'pandas.core.frame.DataFrame'>\n",
      "RangeIndex: 150 entries, 0 to 149\n",
      "Data columns (total 6 columns):\n",
      " #   Column         Non-Null Count  Dtype  \n",
      "---  ------         --------------  -----  \n",
      " 0   Id             150 non-null    int64  \n",
      " 1   SepalLengthCm  150 non-null    float64\n",
      " 2   SepalWidthCm   150 non-null    float64\n",
      " 3   PetalLengthCm  150 non-null    float64\n",
      " 4   PetalWidthCm   150 non-null    float64\n",
      " 5   Species        150 non-null    object \n",
      "dtypes: float64(4), int64(1), object(1)\n",
      "memory usage: 7.2+ KB\n"
     ]
    }
   ],
   "source": [
    "#information about the dataframe \n",
    "#include Dtype and nonNull Count\n",
    "df.info()"
   ]
  },
  {
   "cell_type": "code",
   "execution_count": 6,
   "id": "ed1e93fe",
   "metadata": {},
   "outputs": [
    {
     "data": {
      "text/html": [
       "<div>\n",
       "<style scoped>\n",
       "    .dataframe tbody tr th:only-of-type {\n",
       "        vertical-align: middle;\n",
       "    }\n",
       "\n",
       "    .dataframe tbody tr th {\n",
       "        vertical-align: top;\n",
       "    }\n",
       "\n",
       "    .dataframe thead th {\n",
       "        text-align: right;\n",
       "    }\n",
       "</style>\n",
       "<table border=\"1\" class=\"dataframe\">\n",
       "  <thead>\n",
       "    <tr style=\"text-align: right;\">\n",
       "      <th></th>\n",
       "      <th>Id</th>\n",
       "      <th>SepalLengthCm</th>\n",
       "      <th>SepalWidthCm</th>\n",
       "      <th>PetalLengthCm</th>\n",
       "      <th>PetalWidthCm</th>\n",
       "    </tr>\n",
       "  </thead>\n",
       "  <tbody>\n",
       "    <tr>\n",
       "      <th>count</th>\n",
       "      <td>150.000000</td>\n",
       "      <td>150.000000</td>\n",
       "      <td>150.000000</td>\n",
       "      <td>150.000000</td>\n",
       "      <td>150.000000</td>\n",
       "    </tr>\n",
       "    <tr>\n",
       "      <th>mean</th>\n",
       "      <td>75.500000</td>\n",
       "      <td>5.843333</td>\n",
       "      <td>3.054000</td>\n",
       "      <td>3.758667</td>\n",
       "      <td>1.198667</td>\n",
       "    </tr>\n",
       "    <tr>\n",
       "      <th>std</th>\n",
       "      <td>43.445368</td>\n",
       "      <td>0.828066</td>\n",
       "      <td>0.433594</td>\n",
       "      <td>1.764420</td>\n",
       "      <td>0.763161</td>\n",
       "    </tr>\n",
       "    <tr>\n",
       "      <th>min</th>\n",
       "      <td>1.000000</td>\n",
       "      <td>4.300000</td>\n",
       "      <td>2.000000</td>\n",
       "      <td>1.000000</td>\n",
       "      <td>0.100000</td>\n",
       "    </tr>\n",
       "    <tr>\n",
       "      <th>25%</th>\n",
       "      <td>38.250000</td>\n",
       "      <td>5.100000</td>\n",
       "      <td>2.800000</td>\n",
       "      <td>1.600000</td>\n",
       "      <td>0.300000</td>\n",
       "    </tr>\n",
       "    <tr>\n",
       "      <th>50%</th>\n",
       "      <td>75.500000</td>\n",
       "      <td>5.800000</td>\n",
       "      <td>3.000000</td>\n",
       "      <td>4.350000</td>\n",
       "      <td>1.300000</td>\n",
       "    </tr>\n",
       "    <tr>\n",
       "      <th>75%</th>\n",
       "      <td>112.750000</td>\n",
       "      <td>6.400000</td>\n",
       "      <td>3.300000</td>\n",
       "      <td>5.100000</td>\n",
       "      <td>1.800000</td>\n",
       "    </tr>\n",
       "    <tr>\n",
       "      <th>max</th>\n",
       "      <td>150.000000</td>\n",
       "      <td>7.900000</td>\n",
       "      <td>4.400000</td>\n",
       "      <td>6.900000</td>\n",
       "      <td>2.500000</td>\n",
       "    </tr>\n",
       "  </tbody>\n",
       "</table>\n",
       "</div>"
      ],
      "text/plain": [
       "               Id  SepalLengthCm  SepalWidthCm  PetalLengthCm  PetalWidthCm\n",
       "count  150.000000     150.000000    150.000000     150.000000    150.000000\n",
       "mean    75.500000       5.843333      3.054000       3.758667      1.198667\n",
       "std     43.445368       0.828066      0.433594       1.764420      0.763161\n",
       "min      1.000000       4.300000      2.000000       1.000000      0.100000\n",
       "25%     38.250000       5.100000      2.800000       1.600000      0.300000\n",
       "50%     75.500000       5.800000      3.000000       4.350000      1.300000\n",
       "75%    112.750000       6.400000      3.300000       5.100000      1.800000\n",
       "max    150.000000       7.900000      4.400000       6.900000      2.500000"
      ]
     },
     "execution_count": 6,
     "metadata": {},
     "output_type": "execute_result"
    }
   ],
   "source": [
    "#describing all the column in dataframe\n",
    "df.describe()"
   ]
  },
  {
   "cell_type": "code",
   "execution_count": 7,
   "id": "6d10b45d",
   "metadata": {},
   "outputs": [
    {
     "data": {
      "text/plain": [
       "Id               150\n",
       "SepalLengthCm     35\n",
       "SepalWidthCm      23\n",
       "PetalLengthCm     43\n",
       "PetalWidthCm      22\n",
       "Species            3\n",
       "dtype: int64"
      ]
     },
     "execution_count": 7,
     "metadata": {},
     "output_type": "execute_result"
    }
   ],
   "source": [
    "df.nunique()"
   ]
  },
  {
   "cell_type": "markdown",
   "id": "b2d859bc",
   "metadata": {},
   "source": [
    "## Part 1:\n",
    "*Create a scatter plot using the Iris Dataset comparing Petal Length to Petal Width by Species or Sepal Length to Sepal Width by species.* \n",
    "*Scatter plot customizations at a minimum must include:*\n",
    "* A title,\n",
    "* Labeled “x” and “y” axes\n",
    "* A legend"
   ]
  },
  {
   "cell_type": "code",
   "execution_count": 14,
   "id": "5ea8c230",
   "metadata": {},
   "outputs": [
    {
     "data": {
      "image/png": "[encoded data removed]",
      "text/plain": [
       "<Figure size 432x288 with 1 Axes>"
      ]
     },
     "metadata": {
      "needs_background": "light"
     },
     "output_type": "display_data"
    }
   ],
   "source": [
    "#ploting a scatter plot that is grouped by the Species \n",
    "sns.scatterplot(\n",
    "    x= df.SepalLengthCm,\n",
    "    y= df.SepalWidthCm,\n",
    "    hue=df.Species)\n",
    "plt.title('Comparing Sepal Length to Sepal Width by Species')\n",
    "plt.xlabel('Sepal Length in Cm')\n",
    "plt.ylabel('Sepal Width in Cm')\n",
    "plt.legend()\n",
    "plt.show()\n"
   ]
  },
  {
   "cell_type": "markdown",
   "id": "8d22e978",
   "metadata": {},
   "source": [
    "## Part 2:\n",
    "*Interpret your scatter plot. At a minimum your interpretation should describe if there is any relationship between the variables and amongst the species.  Identify how strong the relationship appears, if there are any major outliers, and if there are any notable findings.*\n",
    "*To upload your assignment, click on the assignment title above.*"
   ]
  },
  {
   "cell_type": "code",
   "execution_count": 9,
   "id": "18158ab4",
   "metadata": {},
   "outputs": [
    {
     "data": {
      "image/png": "[encoded data removed]",
      "text/plain": [
       "<Figure size 432x288 with 1 Axes>"
      ]
     },
     "metadata": {
      "needs_background": "light"
     },
     "output_type": "display_data"
    },
    {
     "data": {
      "text/html": [
       "<div>\n",
       "<style scoped>\n",
       "    .dataframe tbody tr th:only-of-type {\n",
       "        vertical-align: middle;\n",
       "    }\n",
       "\n",
       "    .dataframe tbody tr th {\n",
       "        vertical-align: top;\n",
       "    }\n",
       "\n",
       "    .dataframe thead th {\n",
       "        text-align: right;\n",
       "    }\n",
       "</style>\n",
       "<table border=\"1\" class=\"dataframe\">\n",
       "  <thead>\n",
       "    <tr style=\"text-align: right;\">\n",
       "      <th></th>\n",
       "      <th>Id</th>\n",
       "      <th>SepalLengthCm</th>\n",
       "      <th>SepalWidthCm</th>\n",
       "      <th>PetalLengthCm</th>\n",
       "      <th>PetalWidthCm</th>\n",
       "    </tr>\n",
       "  </thead>\n",
       "  <tbody>\n",
       "    <tr>\n",
       "      <th>Id</th>\n",
       "      <td>1.000000</td>\n",
       "      <td>-0.033561</td>\n",
       "      <td>-0.066688</td>\n",
       "      <td>0.053253</td>\n",
       "      <td>0.087492</td>\n",
       "    </tr>\n",
       "    <tr>\n",
       "      <th>SepalLengthCm</th>\n",
       "      <td>-0.033561</td>\n",
       "      <td>1.000000</td>\n",
       "      <td>0.746780</td>\n",
       "      <td>0.263874</td>\n",
       "      <td>0.279092</td>\n",
       "    </tr>\n",
       "    <tr>\n",
       "      <th>SepalWidthCm</th>\n",
       "      <td>-0.066688</td>\n",
       "      <td>0.746780</td>\n",
       "      <td>1.000000</td>\n",
       "      <td>0.176695</td>\n",
       "      <td>0.279973</td>\n",
       "    </tr>\n",
       "    <tr>\n",
       "      <th>PetalLengthCm</th>\n",
       "      <td>0.053253</td>\n",
       "      <td>0.263874</td>\n",
       "      <td>0.176695</td>\n",
       "      <td>1.000000</td>\n",
       "      <td>0.306308</td>\n",
       "    </tr>\n",
       "    <tr>\n",
       "      <th>PetalWidthCm</th>\n",
       "      <td>0.087492</td>\n",
       "      <td>0.279092</td>\n",
       "      <td>0.279973</td>\n",
       "      <td>0.306308</td>\n",
       "      <td>1.000000</td>\n",
       "    </tr>\n",
       "  </tbody>\n",
       "</table>\n",
       "</div>"
      ],
      "text/plain": [
       "                     Id  SepalLengthCm  SepalWidthCm  PetalLengthCm  \\\n",
       "Id             1.000000      -0.033561     -0.066688       0.053253   \n",
       "SepalLengthCm -0.033561       1.000000      0.746780       0.263874   \n",
       "SepalWidthCm  -0.066688       0.746780      1.000000       0.176695   \n",
       "PetalLengthCm  0.053253       0.263874      0.176695       1.000000   \n",
       "PetalWidthCm   0.087492       0.279092      0.279973       0.306308   \n",
       "\n",
       "               PetalWidthCm  \n",
       "Id                 0.087492  \n",
       "SepalLengthCm      0.279092  \n",
       "SepalWidthCm       0.279973  \n",
       "PetalLengthCm      0.306308  \n",
       "PetalWidthCm       1.000000  "
      ]
     },
     "execution_count": 9,
     "metadata": {},
     "output_type": "execute_result"
    }
   ],
   "source": [
    "df1=df[df.Species=='Iris-setosa']\n",
    "#ploting a Reg plot\n",
    "sns.regplot(\n",
    "    x= df1.SepalLengthCm,\n",
    "    y= df1.SepalWidthCm,label='Iris-setosa')\n",
    "\n",
    "plt.title('relationship between Sepal Length to Sepal Width for Iris-Setosa')\n",
    "plt.xlabel('Sepal Length in Cm')\n",
    "plt.ylabel('Sepal Width in Cm')\n",
    "plt.legend()\n",
    "plt.show()\n",
    "df1.corr()"
   ]
  },
  {
   "cell_type": "code",
   "execution_count": null,
   "id": "760835c4",
   "metadata": {},
   "outputs": [],
   "source": []
  },
  {
   "cell_type": "code",
   "execution_count": 10,
   "id": "2ff1c41b",
   "metadata": {},
   "outputs": [
    {
     "data": {
      "image/png": "[encoded data removed]",
      "text/plain": [
       "<Figure size 432x288 with 1 Axes>"
      ]
     },
     "metadata": {
      "needs_background": "light"
     },
     "output_type": "display_data"
    },
    {
     "data": {
      "text/html": [
       "<div>\n",
       "<style scoped>\n",
       "    .dataframe tbody tr th:only-of-type {\n",
       "        vertical-align: middle;\n",
       "    }\n",
       "\n",
       "    .dataframe tbody tr th {\n",
       "        vertical-align: top;\n",
       "    }\n",
       "\n",
       "    .dataframe thead th {\n",
       "        text-align: right;\n",
       "    }\n",
       "</style>\n",
       "<table border=\"1\" class=\"dataframe\">\n",
       "  <thead>\n",
       "    <tr style=\"text-align: right;\">\n",
       "      <th></th>\n",
       "      <th>Id</th>\n",
       "      <th>SepalLengthCm</th>\n",
       "      <th>SepalWidthCm</th>\n",
       "      <th>PetalLengthCm</th>\n",
       "      <th>PetalWidthCm</th>\n",
       "    </tr>\n",
       "  </thead>\n",
       "  <tbody>\n",
       "    <tr>\n",
       "      <th>Id</th>\n",
       "      <td>1.000000</td>\n",
       "      <td>-0.012549</td>\n",
       "      <td>0.130884</td>\n",
       "      <td>-0.204204</td>\n",
       "      <td>0.036446</td>\n",
       "    </tr>\n",
       "    <tr>\n",
       "      <th>SepalLengthCm</th>\n",
       "      <td>-0.012549</td>\n",
       "      <td>1.000000</td>\n",
       "      <td>0.457228</td>\n",
       "      <td>0.864225</td>\n",
       "      <td>0.281108</td>\n",
       "    </tr>\n",
       "    <tr>\n",
       "      <th>SepalWidthCm</th>\n",
       "      <td>0.130884</td>\n",
       "      <td>0.457228</td>\n",
       "      <td>1.000000</td>\n",
       "      <td>0.401045</td>\n",
       "      <td>0.537728</td>\n",
       "    </tr>\n",
       "    <tr>\n",
       "      <th>PetalLengthCm</th>\n",
       "      <td>-0.204204</td>\n",
       "      <td>0.864225</td>\n",
       "      <td>0.401045</td>\n",
       "      <td>1.000000</td>\n",
       "      <td>0.322108</td>\n",
       "    </tr>\n",
       "    <tr>\n",
       "      <th>PetalWidthCm</th>\n",
       "      <td>0.036446</td>\n",
       "      <td>0.281108</td>\n",
       "      <td>0.537728</td>\n",
       "      <td>0.322108</td>\n",
       "      <td>1.000000</td>\n",
       "    </tr>\n",
       "  </tbody>\n",
       "</table>\n",
       "</div>"
      ],
      "text/plain": [
       "                     Id  SepalLengthCm  SepalWidthCm  PetalLengthCm  \\\n",
       "Id             1.000000      -0.012549      0.130884      -0.204204   \n",
       "SepalLengthCm -0.012549       1.000000      0.457228       0.864225   \n",
       "SepalWidthCm   0.130884       0.457228      1.000000       0.401045   \n",
       "PetalLengthCm -0.204204       0.864225      0.401045       1.000000   \n",
       "PetalWidthCm   0.036446       0.281108      0.537728       0.322108   \n",
       "\n",
       "               PetalWidthCm  \n",
       "Id                 0.036446  \n",
       "SepalLengthCm      0.281108  \n",
       "SepalWidthCm       0.537728  \n",
       "PetalLengthCm      0.322108  \n",
       "PetalWidthCm       1.000000  "
      ]
     },
     "execution_count": 10,
     "metadata": {},
     "output_type": "execute_result"
    }
   ],
   "source": [
    "df2=df[df.Species=='Iris-virginica']\n",
    "#ploting a Reg plot\n",
    "sns.regplot(\n",
    "    x= df2.SepalLengthCm,\n",
    "    y= df2.SepalWidthCm,label='Iris-virginica')\n",
    "\n",
    "plt.title('relationship between Sepal Length to Sepal Width for Iris-virginica')\n",
    "plt.xlabel('Sepal Length in Cm')\n",
    "plt.ylabel('Sepal Width in Cm')\n",
    "plt.legend()\n",
    "plt.show()\n",
    "df2.corr()"
   ]
  },
  {
   "cell_type": "code",
   "execution_count": 11,
   "id": "022e4299",
   "metadata": {},
   "outputs": [
    {
     "data": {
      "image/png": "[encoded data removed]",
      "text/plain": [
       "<Figure size 432x288 with 1 Axes>"
      ]
     },
     "metadata": {
      "needs_background": "light"
     },
     "output_type": "display_data"
    },
    {
     "data": {
      "text/html": [
       "<div>\n",
       "<style scoped>\n",
       "    .dataframe tbody tr th:only-of-type {\n",
       "        vertical-align: middle;\n",
       "    }\n",
       "\n",
       "    .dataframe tbody tr th {\n",
       "        vertical-align: top;\n",
       "    }\n",
       "\n",
       "    .dataframe thead th {\n",
       "        text-align: right;\n",
       "    }\n",
       "</style>\n",
       "<table border=\"1\" class=\"dataframe\">\n",
       "  <thead>\n",
       "    <tr style=\"text-align: right;\">\n",
       "      <th></th>\n",
       "      <th>Id</th>\n",
       "      <th>SepalLengthCm</th>\n",
       "      <th>SepalWidthCm</th>\n",
       "      <th>PetalLengthCm</th>\n",
       "      <th>PetalWidthCm</th>\n",
       "    </tr>\n",
       "  </thead>\n",
       "  <tbody>\n",
       "    <tr>\n",
       "      <th>Id</th>\n",
       "      <td>1.000000</td>\n",
       "      <td>-0.269056</td>\n",
       "      <td>-0.081867</td>\n",
       "      <td>-0.189481</td>\n",
       "      <td>-0.168846</td>\n",
       "    </tr>\n",
       "    <tr>\n",
       "      <th>SepalLengthCm</th>\n",
       "      <td>-0.269056</td>\n",
       "      <td>1.000000</td>\n",
       "      <td>0.525911</td>\n",
       "      <td>0.754049</td>\n",
       "      <td>0.546461</td>\n",
       "    </tr>\n",
       "    <tr>\n",
       "      <th>SepalWidthCm</th>\n",
       "      <td>-0.081867</td>\n",
       "      <td>0.525911</td>\n",
       "      <td>1.000000</td>\n",
       "      <td>0.560522</td>\n",
       "      <td>0.663999</td>\n",
       "    </tr>\n",
       "    <tr>\n",
       "      <th>PetalLengthCm</th>\n",
       "      <td>-0.189481</td>\n",
       "      <td>0.754049</td>\n",
       "      <td>0.560522</td>\n",
       "      <td>1.000000</td>\n",
       "      <td>0.786668</td>\n",
       "    </tr>\n",
       "    <tr>\n",
       "      <th>PetalWidthCm</th>\n",
       "      <td>-0.168846</td>\n",
       "      <td>0.546461</td>\n",
       "      <td>0.663999</td>\n",
       "      <td>0.786668</td>\n",
       "      <td>1.000000</td>\n",
       "    </tr>\n",
       "  </tbody>\n",
       "</table>\n",
       "</div>"
      ],
      "text/plain": [
       "                     Id  SepalLengthCm  SepalWidthCm  PetalLengthCm  \\\n",
       "Id             1.000000      -0.269056     -0.081867      -0.189481   \n",
       "SepalLengthCm -0.269056       1.000000      0.525911       0.754049   \n",
       "SepalWidthCm  -0.081867       0.525911      1.000000       0.560522   \n",
       "PetalLengthCm -0.189481       0.754049      0.560522       1.000000   \n",
       "PetalWidthCm  -0.168846       0.546461      0.663999       0.786668   \n",
       "\n",
       "               PetalWidthCm  \n",
       "Id                -0.168846  \n",
       "SepalLengthCm      0.546461  \n",
       "SepalWidthCm       0.663999  \n",
       "PetalLengthCm      0.786668  \n",
       "PetalWidthCm       1.000000  "
      ]
     },
     "execution_count": 11,
     "metadata": {},
     "output_type": "execute_result"
    }
   ],
   "source": [
    "df3=df[df.Species=='Iris-versicolor']\n",
    "#ploting a Reg plot\n",
    "sns.regplot(\n",
    "    x= df3.SepalLengthCm,\n",
    "    y= df3.SepalWidthCm,label='Iris-versicolor')\n",
    "\n",
    "plt.title('relationship between Sepal Length to Sepal Width for Iris-versicolor')\n",
    "plt.xlabel('Sepal Length in Cm')\n",
    "plt.ylabel('Sepal Width in Cm')\n",
    "plt.legend()\n",
    "plt.show()\n",
    "df3.corr()"
   ]
  },
  {
   "cell_type": "code",
   "execution_count": 12,
   "id": "05413147",
   "metadata": {},
   "outputs": [
    {
     "data": {
      "image/png": "[encoded data removed]",
      "text/plain": [
       "<Figure size 432x288 with 1 Axes>"
      ]
     },
     "metadata": {
      "needs_background": "light"
     },
     "output_type": "display_data"
    }
   ],
   "source": [
    "#ploting boxplot to Identify the outliers between species and Sepal Width\n",
    "sns.boxplot(x=df.Species,\n",
    "           y=df.SepalWidthCm)\n",
    "plt.xlabel('Species')\n",
    "plt.ylabel('Sepal Width in Cm')\n",
    "plt.show()"
   ]
  },
  {
   "cell_type": "code",
   "execution_count": 13,
   "id": "c8166e37",
   "metadata": {},
   "outputs": [
    {
     "data": {
      "image/png": "[encoded data removed]",
      "text/plain": [
       "<Figure size 432x288 with 1 Axes>"
      ]
     },
     "metadata": {
      "needs_background": "light"
     },
     "output_type": "display_data"
    }
   ],
   "source": [
    "#ploting boxplot to Identify the outliers between species and Sepal Length\n",
    "sns.boxplot(\n",
    "    x=df.Species,\n",
    "    y=df.SepalLengthCm)\n",
    "plt.xlabel('Species')\n",
    "plt.ylabel('Sepal Length in Cm')\n",
    "plt.show()"
   ]
  },
  {
   "cell_type": "markdown",
   "id": "efc0a4a9",
   "metadata": {},
   "source": [
    "# Answer for part 2:\n",
    "*After looking at the graphs and the correlation table, I can see that there is a strong relationship between the sepal length and width for the iris-setosa. Since there is a correlation of 0.746780. Whereas the correlation between sepal length and width is 0.525911 for Iris versicolor and 0.457228 for Iris virginica, indicating a moderate and weak relationships between the two variables. Also, there was major outliers in iris-virginica.*"
   ]
  }
 ],
 "metadata": {
  "kernelspec": {
   "display_name": "Python 3",
   "language": "python",
   "name": "python3"
  },
  "language_info": {
   "codemirror_mode": {
    "name": "ipython",
    "version": 3
   },
   "file_extension": ".py",
   "mimetype": "text/x-python",
   "name": "python",
   "nbconvert_exporter": "python",
   "pygments_lexer": "ipython3",
   "version": "3.8.8"
  }
 },
 "nbformat": 4,
 "nbformat_minor": 5
}
